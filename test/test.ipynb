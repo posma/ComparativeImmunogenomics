{
 "cells": [
  {
   "cell_type": "code",
   "execution_count": 1,
   "id": "0095b1f3",
   "metadata": {},
   "outputs": [],
   "source": [
    "import pandas as pd\n",
    "import numpy as np\n",
    "from Bio import Align\n",
    "from Bio import SeqIO"
   ]
  },
  {
   "cell_type": "code",
   "execution_count": 2,
   "id": "65c77a9e",
   "metadata": {},
   "outputs": [],
   "source": [
    "import Repeats\n",
    "import PercentIdentity\n",
    "import HapSimilarity"
   ]
  },
  {
   "cell_type": "code",
   "execution_count": 3,
   "id": "116e8fed",
   "metadata": {},
   "outputs": [],
   "source": [
    "aligner = Align.PairwiseAligner()\n",
    "aligner.mode = 'global' "
   ]
  },
  {
   "cell_type": "markdown",
   "id": "361133dc",
   "metadata": {},
   "source": [
    "##### provide the rootfolder\n"
   ]
  },
  {
   "cell_type": "code",
   "execution_count": 4,
   "id": "03ef8f04",
   "metadata": {},
   "outputs": [],
   "source": [
    "#root_folder = '/path/to_your/folder'\n",
    "\n",
    "if root_folder[-1] == '/':\n",
    "    root_folder = root_folder[:-1]"
   ]
  },
  {
   "cell_type": "code",
   "execution_count": null,
   "id": "d1d58f6c",
   "metadata": {},
   "outputs": [],
   "source": []
  },
  {
   "cell_type": "markdown",
   "id": "64dae45c",
   "metadata": {},
   "source": [
    "## TANDEMNESS"
   ]
  },
  {
   "cell_type": "code",
   "execution_count": 5,
   "id": "ed24cfe8",
   "metadata": {},
   "outputs": [
    {
     "data": {
      "text/plain": [
       "0.039552097888893085"
      ]
     },
     "execution_count": 5,
     "metadata": {},
     "output_type": "execute_result"
    }
   ],
   "source": [
    "data = {'yass_csv': f'{root_folder}/test_data/mManPen7_IGH.csv',\n",
    "       'contig_length': 529580}\n",
    "\n",
    "Repeats.calculate(**data)"
   ]
  },
  {
   "cell_type": "markdown",
   "id": "d4ae35ed",
   "metadata": {},
   "source": [
    "## PI MEAN"
   ]
  },
  {
   "cell_type": "code",
   "execution_count": 6,
   "id": "67d82b80",
   "metadata": {},
   "outputs": [
    {
     "data": {
      "text/plain": [
       "(0.9082621542632324, 0.12244897959183673)"
      ]
     },
     "execution_count": 6,
     "metadata": {},
     "output_type": "execute_result"
    }
   ],
   "source": [
    "data = {'vgene_path': f'{root_folder}/test_data/mMelMel3_hap2.tsv'}\n",
    "PercentIdentity.calculate(**data)"
   ]
  },
  {
   "cell_type": "code",
   "execution_count": 7,
   "id": "4505d162",
   "metadata": {},
   "outputs": [
    {
     "data": {
      "text/plain": [
       "(0.9962004533595353, 0.9574468085106383)"
      ]
     },
     "execution_count": 7,
     "metadata": {},
     "output_type": "execute_result"
    }
   ],
   "source": [
    "data = {'vgene_path': f'{root_folder}/test_data/mMelMel3_hap1.tsv',\n",
    "       'vgene_path2': f'{root_folder}/test_data/mMelMel3_hap2.tsv'}\n",
    "PercentIdentity.calculate(**data)"
   ]
  },
  {
   "cell_type": "markdown",
   "id": "a21c0db0",
   "metadata": {},
   "source": [
    "## HAPLOTYPE SIMILARITY"
   ]
  },
  {
   "cell_type": "code",
   "execution_count": 8,
   "id": "30787d5a",
   "metadata": {},
   "outputs": [
    {
     "data": {
      "text/html": [
       "<div>\n",
       "<style scoped>\n",
       "    .dataframe tbody tr th:only-of-type {\n",
       "        vertical-align: middle;\n",
       "    }\n",
       "\n",
       "    .dataframe tbody tr th {\n",
       "        vertical-align: top;\n",
       "    }\n",
       "\n",
       "    .dataframe thead th {\n",
       "        text-align: right;\n",
       "    }\n",
       "</style>\n",
       "<table border=\"1\" class=\"dataframe\">\n",
       "  <thead>\n",
       "    <tr style=\"text-align: right;\">\n",
       "      <th></th>\n",
       "      <th>q_top0</th>\n",
       "      <th>q_top1</th>\n",
       "      <th>q_top2</th>\n",
       "      <th>q_top3</th>\n",
       "      <th>q_top4</th>\n",
       "      <th>q_top5</th>\n",
       "      <th>q_top6</th>\n",
       "      <th>q_top7</th>\n",
       "      <th>q_top8</th>\n",
       "      <th>q_top9</th>\n",
       "      <th>...</th>\n",
       "      <th>s_top95</th>\n",
       "      <th>s_top96</th>\n",
       "      <th>s_top97</th>\n",
       "      <th>s_top98</th>\n",
       "      <th>s_top99</th>\n",
       "      <th>s_top100</th>\n",
       "      <th>q_area</th>\n",
       "      <th>s_area</th>\n",
       "      <th>dif_area</th>\n",
       "      <th>exp_area</th>\n",
       "    </tr>\n",
       "  </thead>\n",
       "  <tbody>\n",
       "    <tr>\n",
       "      <th>0</th>\n",
       "      <td>0.399755</td>\n",
       "      <td>0.705051</td>\n",
       "      <td>0.999743</td>\n",
       "      <td>0.999743</td>\n",
       "      <td>0.999743</td>\n",
       "      <td>0.999743</td>\n",
       "      <td>0.999743</td>\n",
       "      <td>0.999743</td>\n",
       "      <td>0.999743</td>\n",
       "      <td>0.999743</td>\n",
       "      <td>...</td>\n",
       "      <td>1.0</td>\n",
       "      <td>1.0</td>\n",
       "      <td>1.0</td>\n",
       "      <td>1.0</td>\n",
       "      <td>1.0</td>\n",
       "      <td>1.0</td>\n",
       "      <td>99.399535</td>\n",
       "      <td>99.404931</td>\n",
       "      <td>0.005395</td>\n",
       "      <td>99.396838</td>\n",
       "    </tr>\n",
       "  </tbody>\n",
       "</table>\n",
       "<p>1 rows × 206 columns</p>\n",
       "</div>"
      ],
      "text/plain": [
       "     q_top0    q_top1    q_top2    q_top3    q_top4    q_top5    q_top6  \\\n",
       "0  0.399755  0.705051  0.999743  0.999743  0.999743  0.999743  0.999743   \n",
       "\n",
       "     q_top7    q_top8    q_top9  ...  s_top95  s_top96  s_top97  s_top98  \\\n",
       "0  0.999743  0.999743  0.999743  ...      1.0      1.0      1.0      1.0   \n",
       "\n",
       "   s_top99  s_top100     q_area     s_area  dif_area   exp_area  \n",
       "0      1.0       1.0  99.399535  99.404931  0.005395  99.396838  \n",
       "\n",
       "[1 rows x 206 columns]"
      ]
     },
     "execution_count": 8,
     "metadata": {},
     "output_type": "execute_result"
    }
   ],
   "source": [
    "data = {'yass_path': f'{root_folder}/test_data/mManPen7_IGH_haplo.csv', \n",
    "        'q_contig_length': 529580, \n",
    "        's_contig_length': 529545}  \n",
    "\n",
    "HapSimilarity.calculate(**data)"
   ]
  },
  {
   "cell_type": "code",
   "execution_count": null,
   "id": "67f03cde",
   "metadata": {},
   "outputs": [],
   "source": []
  },
  {
   "cell_type": "code",
   "execution_count": null,
   "id": "21e8ed3c",
   "metadata": {},
   "outputs": [],
   "source": []
  }
 ],
 "metadata": {
  "kernelspec": {
   "display_name": "Python 3 (ipykernel)",
   "language": "python",
   "name": "python3"
  },
  "language_info": {
   "codemirror_mode": {
    "name": "ipython",
    "version": 3
   },
   "file_extension": ".py",
   "mimetype": "text/x-python",
   "name": "python",
   "nbconvert_exporter": "python",
   "pygments_lexer": "ipython3",
   "version": "3.11.1"
  }
 },
 "nbformat": 4,
 "nbformat_minor": 5
}
