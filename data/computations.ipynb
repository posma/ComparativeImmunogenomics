{
 "cells": [
  {
   "cell_type": "code",
   "execution_count": 1,
   "id": "c766f1ca",
   "metadata": {},
   "outputs": [],
   "source": [
    "import os\n",
    "import shutil\n",
    "import pandas as pd\n",
    "import numpy as np\n",
    "import scipy.stats\n",
    "from scipy import stats"
   ]
  },
  {
   "cell_type": "markdown",
   "id": "b93bc6d4",
   "metadata": {},
   "source": [
    "##### provide the rootfolder where summary.tsv, summary_haplotypes.tsv are"
   ]
  },
  {
   "cell_type": "code",
   "execution_count": 2,
   "id": "8a20a629",
   "metadata": {},
   "outputs": [],
   "source": [
    "## root_folder = '/path/to_your/folder'\n",
    "\n",
    "if root_folder[-1] == '/':\n",
    "    root_folder = root_folder[:-1]"
   ]
  },
  {
   "cell_type": "code",
   "execution_count": 3,
   "id": "0d070364",
   "metadata": {},
   "outputs": [
    {
     "data": {
      "text/html": [
       "<div>\n",
       "<style scoped>\n",
       "    .dataframe tbody tr th:only-of-type {\n",
       "        vertical-align: middle;\n",
       "    }\n",
       "\n",
       "    .dataframe tbody tr th {\n",
       "        vertical-align: top;\n",
       "    }\n",
       "\n",
       "    .dataframe thead th {\n",
       "        text-align: right;\n",
       "    }\n",
       "</style>\n",
       "<table border=\"1\" class=\"dataframe\">\n",
       "  <thead>\n",
       "    <tr style=\"text-align: right;\">\n",
       "      <th></th>\n",
       "      <th>Haplotype</th>\n",
       "      <th>Contig</th>\n",
       "      <th>Length</th>\n",
       "      <th>NumProdV</th>\n",
       "      <th>Order</th>\n",
       "      <th>LatinName</th>\n",
       "      <th>CommonName</th>\n",
       "      <th>sample</th>\n",
       "      <th>locus</th>\n",
       "      <th>R15_5</th>\n",
       "      <th>tandem</th>\n",
       "      <th>pi_mean</th>\n",
       "      <th>sim_95</th>\n",
       "      <th>Simple_repeat</th>\n",
       "      <th>LINE/L1</th>\n",
       "      <th>LTR/ERVL-MaLR</th>\n",
       "      <th>LTR/ERVL</th>\n",
       "      <th>LTR/ERV1</th>\n",
       "      <th>Low_complexity</th>\n",
       "    </tr>\n",
       "  </thead>\n",
       "  <tbody>\n",
       "    <tr>\n",
       "      <th>0</th>\n",
       "      <td>haploid</td>\n",
       "      <td>NW_026622930.1</td>\n",
       "      <td>537463</td>\n",
       "      <td>23</td>\n",
       "      <td>Carnivora</td>\n",
       "      <td>Ursus arctos</td>\n",
       "      <td>brown bear</td>\n",
       "      <td>UrsArc2.0</td>\n",
       "      <td>IGH</td>\n",
       "      <td>0.315551</td>\n",
       "      <td>semi-tandem</td>\n",
       "      <td>94.680438</td>\n",
       "      <td>39.130435</td>\n",
       "      <td>0.010522</td>\n",
       "      <td>0.385215</td>\n",
       "      <td>0.009950</td>\n",
       "      <td>0.017369</td>\n",
       "      <td>0.008855</td>\n",
       "      <td>0.010107</td>\n",
       "    </tr>\n",
       "    <tr>\n",
       "      <th>1</th>\n",
       "      <td>haploid</td>\n",
       "      <td>NW_026623100.1</td>\n",
       "      <td>180004</td>\n",
       "      <td>16</td>\n",
       "      <td>Carnivora</td>\n",
       "      <td>Ursus arctos</td>\n",
       "      <td>brown bear</td>\n",
       "      <td>UrsArc2.0</td>\n",
       "      <td>IGK</td>\n",
       "      <td>0.000000</td>\n",
       "      <td>non-tandem</td>\n",
       "      <td>83.082850</td>\n",
       "      <td>0.000000</td>\n",
       "      <td>0.016327</td>\n",
       "      <td>0.139230</td>\n",
       "      <td>0.018205</td>\n",
       "      <td>0.028816</td>\n",
       "      <td>0.004961</td>\n",
       "      <td>0.005917</td>\n",
       "    </tr>\n",
       "    <tr>\n",
       "      <th>2</th>\n",
       "      <td>haploid</td>\n",
       "      <td>NW_026623030.1</td>\n",
       "      <td>1148887</td>\n",
       "      <td>47</td>\n",
       "      <td>Carnivora</td>\n",
       "      <td>Ursus arctos</td>\n",
       "      <td>brown bear</td>\n",
       "      <td>UrsArc2.0</td>\n",
       "      <td>IGL</td>\n",
       "      <td>0.315658</td>\n",
       "      <td>semi-tandem</td>\n",
       "      <td>86.259732</td>\n",
       "      <td>17.021277</td>\n",
       "      <td>0.015775</td>\n",
       "      <td>0.259370</td>\n",
       "      <td>0.008148</td>\n",
       "      <td>0.022050</td>\n",
       "      <td>0.016293</td>\n",
       "      <td>0.003567</td>\n",
       "    </tr>\n",
       "    <tr>\n",
       "      <th>3</th>\n",
       "      <td>haploid</td>\n",
       "      <td>NW_026622985.1</td>\n",
       "      <td>139638</td>\n",
       "      <td>8</td>\n",
       "      <td>Carnivora</td>\n",
       "      <td>Ursus arctos</td>\n",
       "      <td>brown bear</td>\n",
       "      <td>UrsArc2.0</td>\n",
       "      <td>TRB</td>\n",
       "      <td>0.000000</td>\n",
       "      <td>non-tandem</td>\n",
       "      <td>69.344400</td>\n",
       "      <td>0.000000</td>\n",
       "      <td>0.021155</td>\n",
       "      <td>0.140807</td>\n",
       "      <td>0.021892</td>\n",
       "      <td>0.014731</td>\n",
       "      <td>0.004075</td>\n",
       "      <td>0.005579</td>\n",
       "    </tr>\n",
       "    <tr>\n",
       "      <th>4</th>\n",
       "      <td>primary</td>\n",
       "      <td>SUPER_3</td>\n",
       "      <td>245272</td>\n",
       "      <td>15</td>\n",
       "      <td>Artiodactyla</td>\n",
       "      <td>Balaenoptera acutorostrata</td>\n",
       "      <td>minke whale</td>\n",
       "      <td>mBalAcu1</td>\n",
       "      <td>IGH</td>\n",
       "      <td>0.364493</td>\n",
       "      <td>semi-tandem</td>\n",
       "      <td>87.544460</td>\n",
       "      <td>40.000000</td>\n",
       "      <td>0.018225</td>\n",
       "      <td>0.265297</td>\n",
       "      <td>0.015081</td>\n",
       "      <td>0.003372</td>\n",
       "      <td>0.039409</td>\n",
       "      <td>0.001888</td>\n",
       "    </tr>\n",
       "  </tbody>\n",
       "</table>\n",
       "</div>"
      ],
      "text/plain": [
       "  Haplotype          Contig   Length  NumProdV         Order  \\\n",
       "0   haploid  NW_026622930.1   537463        23     Carnivora   \n",
       "1   haploid  NW_026623100.1   180004        16     Carnivora   \n",
       "2   haploid  NW_026623030.1  1148887        47     Carnivora   \n",
       "3   haploid  NW_026622985.1   139638         8     Carnivora   \n",
       "4   primary         SUPER_3   245272        15  Artiodactyla   \n",
       "\n",
       "                    LatinName   CommonName     sample locus     R15_5  \\\n",
       "0                Ursus arctos   brown bear  UrsArc2.0   IGH  0.315551   \n",
       "1                Ursus arctos   brown bear  UrsArc2.0   IGK  0.000000   \n",
       "2                Ursus arctos   brown bear  UrsArc2.0   IGL  0.315658   \n",
       "3                Ursus arctos   brown bear  UrsArc2.0   TRB  0.000000   \n",
       "4  Balaenoptera acutorostrata  minke whale   mBalAcu1   IGH  0.364493   \n",
       "\n",
       "        tandem    pi_mean     sim_95  Simple_repeat   LINE/L1  LTR/ERVL-MaLR  \\\n",
       "0  semi-tandem  94.680438  39.130435       0.010522  0.385215       0.009950   \n",
       "1   non-tandem  83.082850   0.000000       0.016327  0.139230       0.018205   \n",
       "2  semi-tandem  86.259732  17.021277       0.015775  0.259370       0.008148   \n",
       "3   non-tandem  69.344400   0.000000       0.021155  0.140807       0.021892   \n",
       "4  semi-tandem  87.544460  40.000000       0.018225  0.265297       0.015081   \n",
       "\n",
       "   LTR/ERVL  LTR/ERV1  Low_complexity  \n",
       "0  0.017369  0.008855        0.010107  \n",
       "1  0.028816  0.004961        0.005917  \n",
       "2  0.022050  0.016293        0.003567  \n",
       "3  0.014731  0.004075        0.005579  \n",
       "4  0.003372  0.039409        0.001888  "
      ]
     },
     "execution_count": 3,
     "metadata": {},
     "output_type": "execute_result"
    }
   ],
   "source": [
    "summary = pd.read_csv(f'{root_folder}/summary.tsv', sep='\\t')\n",
    "summary.head()"
   ]
  },
  {
   "cell_type": "code",
   "execution_count": null,
   "id": "8beb036c",
   "metadata": {},
   "outputs": [],
   "source": []
  },
  {
   "cell_type": "markdown",
   "id": "6169b200",
   "metadata": {},
   "source": [
    "### Average Percent Identity VS Tandemness\n",
    "The average percent identity is higher in tandem IG/TR loci as compared to semi-tandem  and non-tandem IG/TR loci."
   ]
  },
  {
   "cell_type": "code",
   "execution_count": 4,
   "id": "4c4860df",
   "metadata": {},
   "outputs": [
    {
     "data": {
      "text/plain": [
       "2.7230219926191616e-13"
      ]
     },
     "execution_count": 4,
     "metadata": {},
     "output_type": "execute_result"
    }
   ],
   "source": [
    "non_tandem = summary[summary['tandem']=='non-tandem']['pi_mean']\n",
    "semi_tandem = summary[summary['tandem']=='semi-tandem']['pi_mean']\n",
    "high_tandem = summary[summary['tandem']=='tandem']['pi_mean']\n",
    "\n",
    "t = stats.kruskal(non_tandem, semi_tandem, high_tandem)\n",
    "t.pvalue"
   ]
  },
  {
   "cell_type": "code",
   "execution_count": 5,
   "id": "39d9eff8",
   "metadata": {},
   "outputs": [
    {
     "name": "stdout",
     "output_type": "stream",
     "text": [
      "Average Mean Percent Identity for non-tandem = 80.2\n",
      "Average Mean Percent Identity for semi-tandem = 92.0\n",
      "Average Mean Percent Identity for tandem = 95.1\n"
     ]
    }
   ],
   "source": [
    "print(f'Average Mean Percent Identity for non-tandem = {round(np.mean(non_tandem), 1)}')\n",
    "print(f'Average Mean Percent Identity for semi-tandem = {round(np.mean(semi_tandem), 1)}')\n",
    "print(f'Average Mean Percent Identity for tandem = {round(np.mean(high_tandem), 1)}')"
   ]
  },
  {
   "cell_type": "code",
   "execution_count": 6,
   "id": "19c19e0a",
   "metadata": {},
   "outputs": [
    {
     "data": {
      "text/plain": [
       "3.059849245762304e-09"
      ]
     },
     "execution_count": 6,
     "metadata": {},
     "output_type": "execute_result"
    }
   ],
   "source": [
    "non_tandem = summary[summary['tandem']=='non-tandem']['sim_95']\n",
    "semi_tandem = summary[summary['tandem']=='semi-tandem']['sim_95']\n",
    "high_tandem = summary[summary['tandem']=='tandem']['sim_95']\n",
    "\n",
    "t = stats.kruskal(non_tandem, semi_tandem, high_tandem)\n",
    "t.pvalue"
   ]
  },
  {
   "cell_type": "code",
   "execution_count": 7,
   "id": "c389a04a",
   "metadata": {},
   "outputs": [
    {
     "name": "stdout",
     "output_type": "stream",
     "text": [
      "Average percentage of V genes that have at least 95% similarity:\n",
      " -for non-tandem = 18.4\n",
      " -for semi-tandem = 45.8\n",
      " -for tandem = 61.0\n"
     ]
    }
   ],
   "source": [
    "print(f'Average percentage of V genes that have at least 95% similarity:')\n",
    "print(f' -for non-tandem = {round(np.mean(non_tandem), 1)}')\n",
    "print(f' -for semi-tandem = {round(np.mean(semi_tandem), 1)}')\n",
    "print(f' -for tandem = {round(np.mean(high_tandem), 1)}')"
   ]
  },
  {
   "cell_type": "markdown",
   "id": "4795ba24",
   "metadata": {},
   "source": [
    "Moreover, tandem IG/TR loci on average have a higher percentage of V genes that have at least 95% similarity to another V gene within the same locus compared to semi-tandem and non-tandem IG/TR loci."
   ]
  },
  {
   "cell_type": "code",
   "execution_count": 8,
   "id": "dedc4af9",
   "metadata": {},
   "outputs": [
    {
     "data": {
      "text/plain": [
       "3.059849245762304e-09"
      ]
     },
     "execution_count": 8,
     "metadata": {},
     "output_type": "execute_result"
    }
   ],
   "source": [
    "non_tandem = summary[summary['tandem']=='non-tandem']['sim_95']\n",
    "semi_tandem = summary[summary['tandem']=='semi-tandem']['sim_95']\n",
    "high_tandem = summary[summary['tandem']=='tandem']['sim_95']\n",
    "\n",
    "t = stats.kruskal(non_tandem, semi_tandem, high_tandem)\n",
    "t.pvalue"
   ]
  },
  {
   "cell_type": "code",
   "execution_count": 9,
   "id": "ce7ce9d2",
   "metadata": {},
   "outputs": [
    {
     "name": "stdout",
     "output_type": "stream",
     "text": [
      "percentage of V genes that have at least 95% similarity to another V gene within the same locus:\n",
      " -for non-tandem = 18.4\n",
      " -for semi-tandem = 45.8\n",
      " -tandem = 61.0\n"
     ]
    }
   ],
   "source": [
    "print('percentage of V genes that have at least 95% similarity to another V gene within the same locus:')\n",
    "print(f' -for non-tandem = {round(np.mean(non_tandem), 1)}')\n",
    "print(f' -for semi-tandem = {round(np.mean(semi_tandem), 1)}')\n",
    "print(f' -tandem = {round(np.mean(high_tandem), 1)}')"
   ]
  },
  {
   "cell_type": "markdown",
   "id": "9bf256af",
   "metadata": {},
   "source": [
    "### Repeats"
   ]
  },
  {
   "cell_type": "markdown",
   "id": "27252002",
   "metadata": {},
   "source": [
    "LINE/L1 has the highest coverage, then come LTR/ERVL, simple repeats, LTR/ERVL-MalR, and LTR/ERV1. Tandem IG/TR loci have higher coverage by LINE/L1 and LTR/ERV1 repeats."
   ]
  },
  {
   "cell_type": "code",
   "execution_count": 10,
   "id": "928af6f4",
   "metadata": {},
   "outputs": [
    {
     "name": "stdout",
     "output_type": "stream",
     "text": [
      "Average locus coverage:\n",
      " -LINE/L1 = 18.8\n",
      " -LTR/ERVL = 1.9\n",
      " -Simple_repeat = 1.8\n",
      " -LTR/ERVL-MaLR = 1.3\n",
      " -LTR/ERV1 = 0.9\n"
     ]
    }
   ],
   "source": [
    "type_line = round(np.mean(summary['LINE/L1'])*100, 1)\n",
    "type_ervl = round(np.mean(summary['LTR/ERVL'])*100, 1)\n",
    "type_simple = round(np.mean(summary['Simple_repeat'])*100, 1)\n",
    "type_malr = round(np.mean(summary['LTR/ERVL-MaLR'])*100, 1)\n",
    "type_erv1 = round(np.mean(summary['LTR/ERV1'])*100, 1)\n",
    "\n",
    "print(f'Average locus coverage:')\n",
    "print(f' -LINE/L1 = {type_line}')\n",
    "print(f' -LTR/ERVL = {type_ervl}')\n",
    "print(f' -Simple_repeat = {type_simple}')\n",
    "print(f' -LTR/ERVL-MaLR = {type_malr}')\n",
    "print(f' -LTR/ERV1 = {type_erv1}')"
   ]
  },
  {
   "cell_type": "markdown",
   "id": "04d91c72",
   "metadata": {},
   "source": [
    "### Repeats VS Tandemness"
   ]
  },
  {
   "cell_type": "code",
   "execution_count": 11,
   "id": "33c3259b",
   "metadata": {},
   "outputs": [
    {
     "name": "stdout",
     "output_type": "stream",
     "text": [
      "Tandem IG/TR loci have higher coverage:\n",
      " -by LINE/L1: 0.01\n",
      " -by LTR/ERV1: 0.001\n"
     ]
    }
   ],
   "source": [
    "print('Tandem IG/TR loci have higher coverage:')\n",
    "\n",
    "non_tandem = summary[summary['tandem']=='non-tandem']['LINE/L1']\n",
    "semi_tandem = summary[summary['tandem']=='semi-tandem']['LINE/L1']\n",
    "high_tandem = summary[summary['tandem']=='tandem']['LINE/L1']\n",
    "\n",
    "t = stats.kruskal(non_tandem, semi_tandem, high_tandem)\n",
    "print(f' -by LINE/L1: {round(t.pvalue, 2)}')\n",
    "\n",
    "###\n",
    "\n",
    "non_tandem = summary[summary['tandem']=='non-tandem']['LTR/ERV1']\n",
    "semi_tandem = summary[summary['tandem']=='semi-tandem']['LTR/ERV1']\n",
    "high_tandem = summary[summary['tandem']=='tandem']['LTR/ERV1']\n",
    "\n",
    "t = stats.kruskal(non_tandem, semi_tandem, high_tandem)\n",
    "print(f' -by LTR/ERV1: {round(t.pvalue, 3)}')\n"
   ]
  },
  {
   "cell_type": "code",
   "execution_count": null,
   "id": "cd2460f7",
   "metadata": {},
   "outputs": [],
   "source": []
  },
  {
   "cell_type": "markdown",
   "id": "b9ac9272",
   "metadata": {},
   "source": [
    "## haplotypes"
   ]
  },
  {
   "cell_type": "code",
   "execution_count": 12,
   "id": "3ca5ddb5",
   "metadata": {},
   "outputs": [
    {
     "data": {
      "text/html": [
       "<div>\n",
       "<style scoped>\n",
       "    .dataframe tbody tr th:only-of-type {\n",
       "        vertical-align: middle;\n",
       "    }\n",
       "\n",
       "    .dataframe tbody tr th {\n",
       "        vertical-align: top;\n",
       "    }\n",
       "\n",
       "    .dataframe thead th {\n",
       "        text-align: right;\n",
       "    }\n",
       "</style>\n",
       "<table border=\"1\" class=\"dataframe\">\n",
       "  <thead>\n",
       "    <tr style=\"text-align: right;\">\n",
       "      <th></th>\n",
       "      <th>Order</th>\n",
       "      <th>LatinName</th>\n",
       "      <th>CommonName</th>\n",
       "      <th>sample</th>\n",
       "      <th>locus</th>\n",
       "      <th>exp_area</th>\n",
       "      <th>pi_mean</th>\n",
       "      <th>size2</th>\n",
       "      <th>pair12</th>\n",
       "      <th>pairPN</th>\n",
       "      <th>#genes</th>\n",
       "      <th>12%pairs</th>\n",
       "      <th>12%genes</th>\n",
       "      <th>PN%pairs</th>\n",
       "      <th>PN%genes</th>\n",
       "    </tr>\n",
       "  </thead>\n",
       "  <tbody>\n",
       "    <tr>\n",
       "      <th>0</th>\n",
       "      <td>Primates</td>\n",
       "      <td>Nycticebus coucang</td>\n",
       "      <td>slow loris</td>\n",
       "      <td>mNycCou1</td>\n",
       "      <td>IGH</td>\n",
       "      <td>88.597444</td>\n",
       "      <td>97.078336</td>\n",
       "      <td>33</td>\n",
       "      <td>33</td>\n",
       "      <td>1</td>\n",
       "      <td>77</td>\n",
       "      <td>100.000000</td>\n",
       "      <td>85.714286</td>\n",
       "      <td>3.030303</td>\n",
       "      <td>2.597403</td>\n",
       "    </tr>\n",
       "    <tr>\n",
       "      <th>1</th>\n",
       "      <td>Carnivora</td>\n",
       "      <td>Puma concolor</td>\n",
       "      <td>Mountain Lion</td>\n",
       "      <td>mPumCon1.1</td>\n",
       "      <td>IGH</td>\n",
       "      <td>63.862257</td>\n",
       "      <td>98.678704</td>\n",
       "      <td>33</td>\n",
       "      <td>25</td>\n",
       "      <td>1</td>\n",
       "      <td>105</td>\n",
       "      <td>75.757576</td>\n",
       "      <td>47.619048</td>\n",
       "      <td>3.030303</td>\n",
       "      <td>1.904762</td>\n",
       "    </tr>\n",
       "    <tr>\n",
       "      <th>2</th>\n",
       "      <td>Artiodactyla</td>\n",
       "      <td>Camelus dromedarius</td>\n",
       "      <td>dromedary</td>\n",
       "      <td>mCamDro1</td>\n",
       "      <td>IGH</td>\n",
       "      <td>85.090067</td>\n",
       "      <td>99.004549</td>\n",
       "      <td>22</td>\n",
       "      <td>22</td>\n",
       "      <td>0</td>\n",
       "      <td>58</td>\n",
       "      <td>100.000000</td>\n",
       "      <td>75.862069</td>\n",
       "      <td>0.000000</td>\n",
       "      <td>0.000000</td>\n",
       "    </tr>\n",
       "    <tr>\n",
       "      <th>3</th>\n",
       "      <td>Chiroptera</td>\n",
       "      <td>Corynorhinus townsendii</td>\n",
       "      <td>Townsend's Big-eared Bat</td>\n",
       "      <td>mCorTow1.0</td>\n",
       "      <td>IGH</td>\n",
       "      <td>43.896657</td>\n",
       "      <td>91.160475</td>\n",
       "      <td>54</td>\n",
       "      <td>50</td>\n",
       "      <td>2</td>\n",
       "      <td>125</td>\n",
       "      <td>92.592593</td>\n",
       "      <td>80.000000</td>\n",
       "      <td>3.703704</td>\n",
       "      <td>3.200000</td>\n",
       "    </tr>\n",
       "    <tr>\n",
       "      <th>4</th>\n",
       "      <td>Rodentia</td>\n",
       "      <td>Dipodomys merriami</td>\n",
       "      <td>Merriam’s Kangaroo Rat</td>\n",
       "      <td>mDipMer1.0</td>\n",
       "      <td>IGH</td>\n",
       "      <td>66.646145</td>\n",
       "      <td>94.054313</td>\n",
       "      <td>55</td>\n",
       "      <td>37</td>\n",
       "      <td>6</td>\n",
       "      <td>180</td>\n",
       "      <td>67.272727</td>\n",
       "      <td>41.111111</td>\n",
       "      <td>10.909091</td>\n",
       "      <td>6.666667</td>\n",
       "    </tr>\n",
       "  </tbody>\n",
       "</table>\n",
       "</div>"
      ],
      "text/plain": [
       "          Order                LatinName                CommonName  \\\n",
       "0      Primates       Nycticebus coucang                slow loris   \n",
       "1     Carnivora            Puma concolor             Mountain Lion   \n",
       "2  Artiodactyla      Camelus dromedarius                 dromedary   \n",
       "3    Chiroptera  Corynorhinus townsendii  Townsend's Big-eared Bat   \n",
       "4      Rodentia       Dipodomys merriami    Merriam’s Kangaroo Rat   \n",
       "\n",
       "       sample locus   exp_area    pi_mean  size2  pair12  pairPN  #genes  \\\n",
       "0    mNycCou1   IGH  88.597444  97.078336     33      33       1      77   \n",
       "1  mPumCon1.1   IGH  63.862257  98.678704     33      25       1     105   \n",
       "2    mCamDro1   IGH  85.090067  99.004549     22      22       0      58   \n",
       "3  mCorTow1.0   IGH  43.896657  91.160475     54      50       2     125   \n",
       "4  mDipMer1.0   IGH  66.646145  94.054313     55      37       6     180   \n",
       "\n",
       "     12%pairs   12%genes   PN%pairs  PN%genes  \n",
       "0  100.000000  85.714286   3.030303  2.597403  \n",
       "1   75.757576  47.619048   3.030303  1.904762  \n",
       "2  100.000000  75.862069   0.000000  0.000000  \n",
       "3   92.592593  80.000000   3.703704  3.200000  \n",
       "4   67.272727  41.111111  10.909091  6.666667  "
      ]
     },
     "execution_count": 12,
     "metadata": {},
     "output_type": "execute_result"
    }
   ],
   "source": [
    "summary = pd.read_csv(f'{root_folder}/summary_haplotypes.tsv', sep='\\t')\n",
    "summary.head()"
   ]
  },
  {
   "cell_type": "code",
   "execution_count": null,
   "id": "cb8acd50",
   "metadata": {},
   "outputs": [],
   "source": []
  },
  {
   "cell_type": "markdown",
   "id": "71080d04",
   "metadata": {},
   "source": [
    "### Hoplotypes Similarity (IG vs TR)"
   ]
  },
  {
   "cell_type": "markdown",
   "id": "8d7b825e",
   "metadata": {},
   "source": [
    "TR haplotypes are more similar compared to IG haplotypes. "
   ]
  },
  {
   "cell_type": "code",
   "execution_count": 13,
   "id": "b457fd77",
   "metadata": {},
   "outputs": [
    {
     "name": "stdout",
     "output_type": "stream",
     "text": [
      "TR haplotypes are more similar compared to IG haplotypes with P=0.0027013\n"
     ]
    }
   ],
   "source": [
    "ig = list(summary[summary['locus'].isin(['IGH', 'IGK', 'IGL'])]['exp_area'])\n",
    "tr = list(summary[summary['locus'].isin(['TRA', 'TRB'])]['exp_area'])\n",
    "\n",
    "t = stats.kruskal(ig, tr)\n",
    "\n",
    "print(f'TR haplotypes are more similar compared to IG haplotypes with P={round(t.pvalue, 7)}')"
   ]
  },
  {
   "cell_type": "markdown",
   "id": "ad3f86b9",
   "metadata": {},
   "source": [
    "Artiodactyla and Carnivora species have more similar IG locus haplotypes compared to Chiroptera and Rodentia, this similarity persists in TR pairs, however, it is less distinct."
   ]
  },
  {
   "cell_type": "code",
   "execution_count": 14,
   "id": "4c7db45d",
   "metadata": {},
   "outputs": [
    {
     "name": "stdout",
     "output_type": "stream",
     "text": [
      "Artiodactyla and Carnivora species have more similar IG locus haplotypes compared to \n",
      "Chiroptera and Rodentia with P=1.329e-06.\n"
     ]
    }
   ],
   "source": [
    "target = summary[summary['Order'].isin(['Carnivora','Chiroptera', 'Artiodactyla', 'Rodentia'])]\n",
    "target = target[target['locus'].isin(['IGH', 'IGK', 'IGL'])]\n",
    "\n",
    "blue = list(target[target['Order'].isin(['Artiodactyla', 'Carnivora'])]['exp_area'])\n",
    "orange = list(target[target['Order'].isin(['Chiroptera', 'Rodentia'])]['exp_area'])\n",
    "t = stats.kruskal(blue, orange)\n",
    "\n",
    "print(f'Artiodactyla and Carnivora species have more similar IG locus haplotypes compared to \\nChiroptera and Rodentia with P={round(t.pvalue, 9)}.')\n"
   ]
  },
  {
   "cell_type": "code",
   "execution_count": 15,
   "id": "a5eae929",
   "metadata": {},
   "outputs": [
    {
     "name": "stdout",
     "output_type": "stream",
     "text": [
      "Artiodactyla and Carnivora species have more similar TR locus haplotypes compared to \n",
      "Chiroptera and Rodentia with P=0.000781401.\n"
     ]
    }
   ],
   "source": [
    "target = summary[summary['Order'].isin(['Carnivora','Chiroptera', 'Artiodactyla', 'Rodentia'])]\n",
    "target = target[target['locus'].isin(['TRA', 'TRB'])]\n",
    "\n",
    "blue = list(target[target['Order'].isin(['Artiodactyla', 'Carnivora'])]['exp_area'])\n",
    "orange = list(target[target['Order'].isin(['Chiroptera', 'Rodentia'])]['exp_area'])\n",
    "t = stats.kruskal(blue, orange)\n",
    "\n",
    "print(f'Artiodactyla and Carnivora species have more similar TR locus haplotypes compared to \\nChiroptera and Rodentia with P={round(t.pvalue, 9)}.')\n"
   ]
  },
  {
   "cell_type": "code",
   "execution_count": null,
   "id": "9c0ff7bc",
   "metadata": {},
   "outputs": [],
   "source": []
  },
  {
   "cell_type": "markdown",
   "id": "17b62ff9",
   "metadata": {},
   "source": [
    "### Average Percent Identity VS Hoplotype Similarity"
   ]
  },
  {
   "cell_type": "markdown",
   "id": "93ba7474",
   "metadata": {},
   "source": [
    "The computed V gene similarities positively correlate with haplotype similarity values."
   ]
  },
  {
   "cell_type": "code",
   "execution_count": 16,
   "id": "7722591a",
   "metadata": {},
   "outputs": [
    {
     "name": "stdout",
     "output_type": "stream",
     "text": [
      "For IG: correlation coef. = 0.79; P-value = 1.588795583e-11\n"
     ]
    }
   ],
   "source": [
    "ig = summary[summary['locus'].isin(['IGH', 'IGK', 'IGL'])]\n",
    "\n",
    "haplotypes_similarity = ig['exp_area']\n",
    "genes_simialrity = ig['pi_mean']\n",
    "\n",
    "corr_coef, p_value = scipy.stats.pearsonr(haplotypes_similarity, genes_simialrity)\n",
    "print(f'For IG: correlation coef. = {round(corr_coef, 2)}; P-value = {round(p_value, 20)}')"
   ]
  },
  {
   "cell_type": "code",
   "execution_count": 17,
   "id": "1dc02e93",
   "metadata": {},
   "outputs": [
    {
     "name": "stdout",
     "output_type": "stream",
     "text": [
      "For IG: correlation coef. = 0.76; P-value = 8.5704321135e-10\n"
     ]
    }
   ],
   "source": [
    "ig = summary[summary['locus'].isin(['IGH', 'IGK', 'IGL'])]\n",
    "ig = ig[ig['pi_mean']>80]\n",
    "\n",
    "haplotypes_similarity = ig['exp_area']\n",
    "genes_simialrity = ig['pi_mean']\n",
    "\n",
    "corr_coef, p_value = scipy.stats.pearsonr(haplotypes_similarity, genes_simialrity)\n",
    "print(f'For IG: correlation coef. = {round(corr_coef, 2)}; P-value = {round(p_value, 20)}')"
   ]
  },
  {
   "cell_type": "markdown",
   "id": "34f7c38d",
   "metadata": {},
   "source": [
    "### Hapltypes Similarity VS % Homologous Pairs"
   ]
  },
  {
   "cell_type": "markdown",
   "id": "8ad7e985",
   "metadata": {},
   "source": [
    "Percentage of homologous pairs positively correlates with haplotype similarity. The percentage of clusters of size 2 where one V gene is productive and another is non-productive and showed that it negatively correlates with haplotype similarity. "
   ]
  },
  {
   "cell_type": "code",
   "execution_count": 18,
   "id": "157c6439",
   "metadata": {},
   "outputs": [
    {
     "name": "stdout",
     "output_type": "stream",
     "text": [
      "For IG: correlation coef. = 0.61; P-value = 4.04580017674361e-06\n"
     ]
    }
   ],
   "source": [
    "ig = summary[summary['locus'].isin(['IGH', 'IGK', 'IGL'])]\n",
    "\n",
    "haplotypes_similarity = ig['exp_area']\n",
    "homo_pairs = ig['12%genes']\n",
    "\n",
    "corr_coef, p_value = scipy.stats.pearsonr(haplotypes_similarity, homo_pairs)\n",
    "print(f'For IG: correlation coef. = {round(corr_coef, 2)}; P-value = {round(p_value, 20)}')"
   ]
  },
  {
   "cell_type": "code",
   "execution_count": 19,
   "id": "c933f19f",
   "metadata": {},
   "outputs": [
    {
     "name": "stdout",
     "output_type": "stream",
     "text": [
      "For IG: correlation coef. = -0.46; P-value = 0.001\n"
     ]
    }
   ],
   "source": [
    "ig = summary[summary['locus'].isin(['IGH', 'IGK', 'IGL'])]\n",
    "\n",
    "haplotypes_similarity = ig['exp_area']\n",
    "homo_pairs = ig['PN%genes']\n",
    "\n",
    "corr_coef, p_value = scipy.stats.pearsonr(haplotypes_similarity, homo_pairs)\n",
    "print(f'For IG: correlation coef. = {round(corr_coef, 2)}; P-value = {round(p_value, 3)}')"
   ]
  },
  {
   "cell_type": "code",
   "execution_count": null,
   "id": "8e3a92d2",
   "metadata": {},
   "outputs": [],
   "source": []
  },
  {
   "cell_type": "code",
   "execution_count": null,
   "id": "5be6a59f",
   "metadata": {},
   "outputs": [],
   "source": []
  }
 ],
 "metadata": {
  "kernelspec": {
   "display_name": "Python 3 (ipykernel)",
   "language": "python",
   "name": "python3"
  },
  "language_info": {
   "codemirror_mode": {
    "name": "ipython",
    "version": 3
   },
   "file_extension": ".py",
   "mimetype": "text/x-python",
   "name": "python",
   "nbconvert_exporter": "python",
   "pygments_lexer": "ipython3",
   "version": "3.11.1"
  }
 },
 "nbformat": 4,
 "nbformat_minor": 5
}
